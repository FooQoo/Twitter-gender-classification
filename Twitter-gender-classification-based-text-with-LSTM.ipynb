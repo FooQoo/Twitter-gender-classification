{
 "cells": [
  {
   "cell_type": "code",
   "execution_count": 1,
   "metadata": {
    "collapsed": true
   },
   "outputs": [],
   "source": [
    "import pandas as pd\n",
    "\n",
    "df_raw = pd.read_csv('gender-classification.csv', encoding='latin1')"
   ]
  },
  {
   "cell_type": "code",
   "execution_count": 2,
   "metadata": {},
   "outputs": [
    {
     "name": "stdout",
     "output_type": "stream",
     "text": [
      "生データ\n",
      "female     6700\n",
      "male       6194\n",
      "brand      5942\n",
      "unknown    1117\n",
      "Name: gender, dtype: int64\n",
      "修正後のデータ\n",
      "1    6700\n",
      "0    6194\n",
      "Name: gender, dtype: int64\n"
     ]
    }
   ],
   "source": [
    "# 目的変数をいじる\n",
    "\n",
    "## 目的変数を確認\n",
    "obj_col = 'gender'\n",
    "print('生データ\\n{}'.format(df_raw[obj_col].value_counts()))\n",
    "\n",
    "## male と femaleを抽出\n",
    "df = df_raw.loc[ (df_raw[obj_col]=='male') | (df_raw[obj_col]=='female')]\n",
    "\n",
    "## indexを振り直さないとlocメソッドでerrorが出る\n",
    "df = df.reset_index(drop=True)\n",
    "\n",
    "##ラベルを整数に変換\n",
    "df.loc[ df[obj_col]=='male' , obj_col] = 0\n",
    "df.loc[ df[obj_col]=='female' , obj_col] = 1\n",
    "\n",
    "## 目的変数の型変換\n",
    "df.loc[:, obj_col ] = df.loc[:, obj_col ].astype(int)\n",
    "\n",
    "print('修正後のデータ\\n{}'.format(df[obj_col].value_counts()))"
   ]
  },
  {
   "cell_type": "code",
   "execution_count": 9,
   "metadata": {
    "collapsed": true
   },
   "outputs": [],
   "source": [
    "# 説明変数をいじる\n",
    "## description : 頻度表\n",
    "## text : 分散表現 (word2vec or fasttext) + 品詞の並び方\n",
    "## name : 文字単位\n",
    "## link_color : RGBで各次元を形成\n",
    "## sidebar_color : RGBで各次元を形成\n",
    "## fav_number : 不明\n",
    "## retweet_count : 不明\n",
    "## profileimage : 学習済みモデルから分類する? コスト高そう そもそも人かどうか判断できる時点で予測するまでもない\n",
    "\n",
    "## 性別判定の信頼度が1.0を対象に学習する\n",
    "df = df.loc[ df['gender:confidence'] >=1.0 ]\n",
    "df = df.reset_index(drop=True)"
   ]
  },
  {
   "cell_type": "code",
   "execution_count": 4,
   "metadata": {
    "collapsed": true
   },
   "outputs": [],
   "source": [
    "import re\n",
    "\n",
    "def remove_urls(text):\n",
    "    \n",
    "    urls = [g[0] for g in re.findall(r'((https?|ftp)(:\\/\\/[-_\\.!~*\\'()a-zA-Z0-9;\\/?:\\@&=\\+\\$,%#]+))', text)]\n",
    "    \n",
    "    for url in sorted(urls,key=lambda x:-len(x)):\n",
    "    \n",
    "        text = text.replace(url,'')\n",
    "        \n",
    "    return text\n",
    "\n",
    "def remove_mentions(text):\n",
    "    \n",
    "    mentions = [g[0] for g in re.findall(r'@\\w+', text)]\n",
    "    \n",
    "    for mention in sorted(mentions,key=lambda x:-len(x)):\n",
    "    \n",
    "        text = text.replace(mention,'')\n",
    "        \n",
    "    return text\n",
    "\n",
    "def remove_rt(text):\n",
    "    \n",
    "    rts = [g[0] for g in re.findall(r'\\s?RT\\s', text)]\n",
    "    \n",
    "    for rt in sorted(rts,key=lambda x:-len(x)):\n",
    "    \n",
    "        text = text.replace(rt,'')\n",
    "        \n",
    "    return text"
   ]
  },
  {
   "cell_type": "code",
   "execution_count": 5,
   "metadata": {
    "collapsed": true
   },
   "outputs": [],
   "source": [
    "df.text = df.text.map(remove_urls)\n",
    "df.text = df.text.map(remove_mentions)\n",
    "df.text = df.text.map(remove_rt)"
   ]
  },
  {
   "cell_type": "code",
   "execution_count": 11,
   "metadata": {},
   "outputs": [
    {
     "data": {
      "text/plain": [
       "count    10020.000000\n",
       "mean        88.798902\n",
       "std         33.100038\n",
       "min          5.000000\n",
       "25%         62.000000\n",
       "50%         89.000000\n",
       "75%        115.000000\n",
       "max        425.000000\n",
       "Name: text, dtype: float64"
      ]
     },
     "execution_count": 11,
     "metadata": {},
     "output_type": "execute_result"
    }
   ],
   "source": [
    "df.text.apply(lambda x: len(x)).describe()"
   ]
  },
  {
   "cell_type": "code",
   "execution_count": 10,
   "metadata": {
    "collapsed": true
   },
   "outputs": [],
   "source": [
    "import numpy as np\n",
    "from keras.utils import to_categorical\n",
    "\n",
    "y = to_categorical(np.asarray(df.gender.values).astype('float32'))"
   ]
  },
  {
   "cell_type": "code",
   "execution_count": 12,
   "metadata": {
    "collapsed": true
   },
   "outputs": [],
   "source": [
    "# train test split\n",
    "from sklearn.model_selection import train_test_split\n",
    "\n",
    "df_x_train, df_x_test, y_train, y_test = train_test_split(df.text.values, y, test_size = 0.1, random_state = 0, stratify=df.gender.values)"
   ]
  },
  {
   "cell_type": "code",
   "execution_count": 25,
   "metadata": {
    "collapsed": true
   },
   "outputs": [],
   "source": [
    "from keras.preprocessing.text import Tokenizer\n",
    "from keras.preprocessing.sequence import pad_sequences\n",
    "\n",
    "tokenizer = Tokenizer(\n",
    "    char_level=False,\n",
    "    lower=True,\n",
    ")"
   ]
  },
  {
   "cell_type": "code",
   "execution_count": 26,
   "metadata": {},
   "outputs": [],
   "source": [
    "tokenizer.fit_on_texts(df_x_train)\n",
    "\n",
    "max_len = 115\n",
    "\n",
    "train_sequences = tokenizer.texts_to_sequences(df_x_train)\n",
    "x_train = pad_sequences(train_sequences, maxlen=max_len)\n",
    "\n",
    "test_sequences = tokenizer.texts_to_sequences(df_x_test)\n",
    "x_test = pad_sequences(test_sequences, maxlen=max_len)"
   ]
  },
  {
   "cell_type": "code",
   "execution_count": 27,
   "metadata": {
    "collapsed": true
   },
   "outputs": [],
   "source": [
    "idx = tokenizer.word_index"
   ]
  },
  {
   "cell_type": "code",
   "execution_count": 29,
   "metadata": {},
   "outputs": [
    {
     "data": {
      "text/plain": [
       "21089"
      ]
     },
     "execution_count": 29,
     "metadata": {},
     "output_type": "execute_result"
    }
   ],
   "source": [
    "dim = len(idx)\n",
    "dim"
   ]
  },
  {
   "cell_type": "code",
   "execution_count": 30,
   "metadata": {},
   "outputs": [
    {
     "name": "stdout",
     "output_type": "stream",
     "text": [
      "_________________________________________________________________\n",
      "Layer (type)                 Output Shape              Param #   \n",
      "=================================================================\n",
      "embedding_4 (Embedding)      (None, 115, 128)          2699392   \n",
      "_________________________________________________________________\n",
      "bidirectional_4 (Bidirection (None, 230)               224480    \n",
      "_________________________________________________________________\n",
      "dropout_2 (Dropout)          (None, 230)               0         \n",
      "_________________________________________________________________\n",
      "dense_3 (Dense)              (None, 2)                 462       \n",
      "=================================================================\n",
      "Total params: 2,924,334\n",
      "Trainable params: 2,924,334\n",
      "Non-trainable params: 0\n",
      "_________________________________________________________________\n"
     ]
    }
   ],
   "source": [
    "from keras import models\n",
    "from keras import layers\n",
    "from keras import optimizers\n",
    "from keras import metrics\n",
    "from keras import losses\n",
    "from keras import regularizers\n",
    "from keras.layers import Dense, Embedding, LSTM, Bidirectional, Dropout\n",
    "from keras.callbacks import EarlyStopping\n",
    "\n",
    "model = models.Sequential()\n",
    "model.add(Embedding(dim, 128, input_length=max_len))\n",
    "model.add(Bidirectional(LSTM(max_len)))\n",
    "model.add(Dropout(0.5))\n",
    "model.add(Dense(2, activation='softmax'))\n",
    "\n",
    "model.compile(optimizer='Adam',\n",
    "              loss='categorical_crossentropy',\n",
    "              metrics=['acc'])\n",
    "\n",
    "model.summary()"
   ]
  },
  {
   "cell_type": "code",
   "execution_count": 31,
   "metadata": {
    "scrolled": true
   },
   "outputs": [
    {
     "name": "stdout",
     "output_type": "stream",
     "text": [
      "Train on 8116 samples, validate on 902 samples\n",
      "Epoch 1/20\n",
      "8116/8116 [==============================] - 96s 12ms/step - loss: 0.6725 - acc: 0.5731 - val_loss: 0.6544 - val_acc: 0.5920\n",
      "Epoch 2/20\n",
      "8116/8116 [==============================] - 94s 12ms/step - loss: 0.5386 - acc: 0.7647 - val_loss: 0.6781 - val_acc: 0.6286\n",
      "Epoch 3/20\n",
      "8116/8116 [==============================] - 94s 12ms/step - loss: 0.2522 - acc: 0.8993 - val_loss: 0.8269 - val_acc: 0.6197\n",
      "Epoch 4/20\n",
      "8116/8116 [==============================] - 94s 12ms/step - loss: 0.1161 - acc: 0.9611 - val_loss: 1.1476 - val_acc: 0.5987\n",
      "Epoch 5/20\n",
      "8116/8116 [==============================] - 94s 12ms/step - loss: 0.0698 - acc: 0.9786 - val_loss: 1.3149 - val_acc: 0.6031\n",
      "Epoch 6/20\n",
      "8116/8116 [==============================] - 95s 12ms/step - loss: 0.0451 - acc: 0.9867 - val_loss: 1.4750 - val_acc: 0.5965\n"
     ]
    }
   ],
   "source": [
    "history = model.fit(x_train,\n",
    "                    y_train,\n",
    "                    epochs=20,\n",
    "                    batch_size=32,\n",
    "                    validation_split=0.1,\n",
    "                    callbacks=[EarlyStopping(patience=5, monitor='val_loss')])"
   ]
  },
  {
   "cell_type": "code",
   "execution_count": 32,
   "metadata": {},
   "outputs": [
    {
     "data": {
      "image/png": "[encoded data removed]",
      "text/plain": [
       "<matplotlib.figure.Figure at 0x7fc2d82ee518>"
      ]
     },
     "metadata": {},
     "output_type": "display_data"
    }
   ],
   "source": [
    "import matplotlib.pyplot as plt\n",
    "\n",
    "history_dict = history.history\n",
    "loss_values = history_dict['loss']\n",
    "val_loss_values = history_dict['val_loss']\n",
    "\n",
    "epochs = range(1, len(loss_values) + 1)\n",
    "\n",
    "plt.plot(epochs, loss_values, 'bo', label='Training loss')\n",
    "plt.plot(epochs, val_loss_values, 'b', label='Validation loss')\n",
    "plt.title('Training and validation loss')\n",
    "plt.xlabel('Epochs')\n",
    "plt.ylabel('Loss')\n",
    "plt.legend()\n",
    "plt.show()"
   ]
  },
  {
   "cell_type": "code",
   "execution_count": 33,
   "metadata": {},
   "outputs": [
    {
     "data": {
      "image/png": "[encoded data removed]",
      "text/plain": [
       "<matplotlib.figure.Figure at 0x7fc2d832fc50>"
      ]
     },
     "metadata": {},
     "output_type": "display_data"
    }
   ],
   "source": [
    "plt.clf()\n",
    "\n",
    "acc = history_dict['acc']\n",
    "val_acc = history_dict['val_acc']\n",
    "\n",
    "plt.plot(epochs, acc, 'bo', label='Training acc')\n",
    "plt.plot(epochs, val_acc, 'b', label='Validation acc')\n",
    "plt.xlabel('Epochs')\n",
    "plt.ylabel('Accuracy')\n",
    "plt.legend()\n",
    "plt.show()"
   ]
  },
  {
   "cell_type": "code",
   "execution_count": 34,
   "metadata": {},
   "outputs": [
    {
     "name": "stdout",
     "output_type": "stream",
     "text": [
      "1002/1002 [==============================] - 3s 3ms/step\n"
     ]
    },
    {
     "data": {
      "text/plain": [
       "[1.5348801665796252, 0.60279441093970199]"
      ]
     },
     "execution_count": 34,
     "metadata": {},
     "output_type": "execute_result"
    }
   ],
   "source": [
    "model.evaluate(x_test, y_test)"
   ]
  }
 ],
 "metadata": {
  "hide_input": false,
  "kernelspec": {
   "display_name": "Python 3",
   "language": "python",
   "name": "python3"
  },
  "language_info": {
   "codemirror_mode": {
    "name": "ipython",
    "version": 3
   },
   "file_extension": ".py",
   "mimetype": "text/x-python",
   "name": "python",
   "nbconvert_exporter": "python",
   "pygments_lexer": "ipython3",
   "version": "3.6.3"
  }
 },
 "nbformat": 4,
 "nbformat_minor": 2
}
