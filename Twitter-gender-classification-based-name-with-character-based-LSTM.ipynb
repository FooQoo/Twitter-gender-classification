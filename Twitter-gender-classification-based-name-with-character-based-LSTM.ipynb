{
 "cells": [
  {
   "cell_type": "code",
   "execution_count": 1,
   "metadata": {
    "collapsed": true
   },
   "outputs": [],
   "source": [
    "import pandas as pd\n",
    "\n",
    "df_raw = pd.read_csv('gender-classification.csv', encoding='latin1')"
   ]
  },
  {
   "cell_type": "code",
   "execution_count": 2,
   "metadata": {},
   "outputs": [
    {
     "name": "stdout",
     "output_type": "stream",
     "text": [
      "生データ\n",
      "female     6700\n",
      "male       6194\n",
      "brand      5942\n",
      "unknown    1117\n",
      "Name: gender, dtype: int64\n",
      "修正後のデータ\n",
      "1    6700\n",
      "0    6194\n",
      "Name: gender, dtype: int64\n"
     ]
    }
   ],
   "source": [
    "# 目的変数をいじる\n",
    "\n",
    "## 目的変数を確認\n",
    "obj_col = 'gender'\n",
    "print('生データ\\n{}'.format(df_raw[obj_col].value_counts()))\n",
    "\n",
    "## male と femaleを抽出\n",
    "df = df_raw.loc[ (df_raw[obj_col]=='male') | (df_raw[obj_col]=='female')]\n",
    "\n",
    "## indexを振り直さないとlocメソッドでerrorが出る\n",
    "df = df.reset_index(drop=True)\n",
    "\n",
    "##ラベルを整数に変換\n",
    "df.loc[ df[obj_col]=='male' , obj_col] = 0\n",
    "df.loc[ df[obj_col]=='female' , obj_col] = 1\n",
    "\n",
    "## 目的変数の型変換\n",
    "df.loc[:, obj_col ] = df.loc[:, obj_col ].astype(int)\n",
    "\n",
    "print('修正後のデータ\\n{}'.format(df[obj_col].value_counts()))"
   ]
  },
  {
   "cell_type": "code",
   "execution_count": 3,
   "metadata": {},
   "outputs": [
    {
     "name": "stdout",
     "output_type": "stream",
     "text": [
      "修正後のデータ2\n",
      "1    5367\n",
      "0    4653\n",
      "Name: gender, dtype: int64\n"
     ]
    }
   ],
   "source": [
    "# 説明変数をいじる\n",
    "## description : 頻度表 + naive bayse\n",
    "## text : 分散表現 (word2vec or fasttext)  or 頻度表 + naive bayse\n",
    "## name : 文字単位\n",
    "## link_color : RGBで各次元を形成\n",
    "## sidebar_color : RGBで各次元を形成\n",
    "\n",
    "# 保留項目\n",
    "## fav_number : 不明\n",
    "## retweet_count : 不明\n",
    "## profileimage : 学習済みモデルから分類する? コスト高そう そもそも人かどうか判断できる時点で予測するまでもない\n",
    "\n",
    "## 性別判定の信頼度が1.0を対象に学習する\n",
    "df = df.loc[ df['gender:confidence'] >=1.0 ]\n",
    "df = df.reset_index(drop=True)\n",
    "df = df.dropna(subset=['name'])\n",
    "df = df.reset_index(drop=True)\n",
    "\n",
    "print('修正後のデータ2\\n{}'.format(df[obj_col].value_counts()))"
   ]
  },
  {
   "cell_type": "code",
   "execution_count": 8,
   "metadata": {
    "collapsed": true
   },
   "outputs": [],
   "source": [
    "import numpy as np\n",
    "from keras.utils import to_categorical\n",
    "\n",
    "y = to_categorical(np.asarray(df.gender.values).astype('float32'))"
   ]
  },
  {
   "cell_type": "code",
   "execution_count": 4,
   "metadata": {},
   "outputs": [
    {
     "data": {
      "text/plain": [
       "count    10020.000000\n",
       "mean        11.145709\n",
       "std          2.526815\n",
       "min          2.000000\n",
       "25%          9.000000\n",
       "50%         11.000000\n",
       "75%         13.000000\n",
       "max         15.000000\n",
       "Name: name, dtype: float64"
      ]
     },
     "execution_count": 4,
     "metadata": {},
     "output_type": "execute_result"
    }
   ],
   "source": [
    "df.name.apply(lambda x: len(x)).describe()"
   ]
  },
  {
   "cell_type": "code",
   "execution_count": 5,
   "metadata": {},
   "outputs": [
    {
     "name": "stdout",
     "output_type": "stream",
     "text": [
      "Unique symbols: 63\n"
     ]
    }
   ],
   "source": [
    "from collections import Counter\n",
    "\n",
    "unique_symbols = Counter()\n",
    "\n",
    "for _, message in df.name.iteritems():\n",
    "    unique_symbols.update(message)\n",
    "    \n",
    "print(\"Unique symbols:\", len(unique_symbols))\n",
    "\n",
    "num_unique_symbols = len(unique_symbols)"
   ]
  },
  {
   "cell_type": "code",
   "execution_count": 6,
   "metadata": {},
   "outputs": [
    {
     "name": "stderr",
     "output_type": "stream",
     "text": [
      "Using TensorFlow backend.\n",
      "/home/fukuyama/.pyenv/versions/anaconda3-5.0.1/lib/python3.6/importlib/_bootstrap.py:219: RuntimeWarning: compiletime version 3.5 of module 'tensorflow.python.framework.fast_tensor_util' does not match runtime version 3.6\n",
      "  return f(*args, **kwds)\n"
     ]
    }
   ],
   "source": [
    "from keras.preprocessing.text import Tokenizer\n",
    "from keras.preprocessing.sequence import pad_sequences\n",
    "\n",
    "tokenizer = Tokenizer(\n",
    "    char_level=True,\n",
    "    filters=None,\n",
    "    lower=False,\n",
    ")"
   ]
  },
  {
   "cell_type": "code",
   "execution_count": 9,
   "metadata": {},
   "outputs": [],
   "source": [
    "# train test split\n",
    "from sklearn.model_selection import train_test_split\n",
    "\n",
    "df_x_train, df_x_test, y_train, y_test = train_test_split(df.name.values, y, test_size = 0.1, random_state = 0, stratify=df.gender.values)"
   ]
  },
  {
   "cell_type": "code",
   "execution_count": 10,
   "metadata": {
    "collapsed": true
   },
   "outputs": [],
   "source": [
    "tokenizer.fit_on_texts(df_x_train)\n",
    "\n",
    "max_len = 15\n",
    "\n",
    "train_sequences = tokenizer.texts_to_sequences(df_x_train)\n",
    "x_train = pad_sequences(train_sequences, maxlen=max_len)\n",
    "\n",
    "test_sequences = tokenizer.texts_to_sequences(df_x_test)\n",
    "x_test = pad_sequences(test_sequences, maxlen=max_len)"
   ]
  },
  {
   "cell_type": "code",
   "execution_count": 13,
   "metadata": {},
   "outputs": [
    {
     "name": "stdout",
     "output_type": "stream",
     "text": [
      "_________________________________________________________________\n",
      "Layer (type)                 Output Shape              Param #   \n",
      "=================================================================\n",
      "embedding_2 (Embedding)      (None, 15, 63)            3969      \n",
      "_________________________________________________________________\n",
      "bidirectional_2 (Bidirection (None, 30)                9480      \n",
      "_________________________________________________________________\n",
      "dropout_2 (Dropout)          (None, 30)                0         \n",
      "_________________________________________________________________\n",
      "dense_2 (Dense)              (None, 2)                 62        \n",
      "=================================================================\n",
      "Total params: 13,511\n",
      "Trainable params: 13,511\n",
      "Non-trainable params: 0\n",
      "_________________________________________________________________\n"
     ]
    }
   ],
   "source": [
    "from keras import models\n",
    "from keras import layers\n",
    "from keras import optimizers\n",
    "from keras import metrics\n",
    "from keras import losses\n",
    "from keras import regularizers\n",
    "from keras.layers import Dense, Embedding, LSTM, Bidirectional, Dropout\n",
    "from keras.callbacks import EarlyStopping\n",
    "\n",
    "model = models.Sequential()\n",
    "model.add(Embedding(num_unique_symbols, num_unique_symbols, input_length=max_len))\n",
    "model.add(Bidirectional(LSTM(max_len)))\n",
    "model.add(Dropout(0.5))\n",
    "model.add(Dense(2, activation='softmax'))\n",
    "\n",
    "model.compile(optimizer='Adam',\n",
    "              loss='categorical_crossentropy',\n",
    "              metrics=['acc'])\n",
    "\n",
    "model.summary()"
   ]
  },
  {
   "cell_type": "code",
   "execution_count": 14,
   "metadata": {},
   "outputs": [
    {
     "name": "stdout",
     "output_type": "stream",
     "text": [
      "Train on 8116 samples, validate on 902 samples\n",
      "Epoch 1/30\n",
      "8116/8116 [==============================] - 18s 2ms/step - loss: 0.6588 - acc: 0.5987 - val_loss: 0.6464 - val_acc: 0.6086\n",
      "Epoch 2/30\n",
      "8116/8116 [==============================] - 17s 2ms/step - loss: 0.6314 - acc: 0.6463 - val_loss: 0.6494 - val_acc: 0.6264\n",
      "Epoch 3/30\n",
      "8116/8116 [==============================] - 18s 2ms/step - loss: 0.6267 - acc: 0.6447 - val_loss: 0.6419 - val_acc: 0.6231\n",
      "Epoch 4/30\n",
      "8116/8116 [==============================] - 18s 2ms/step - loss: 0.6220 - acc: 0.6498 - val_loss: 0.6536 - val_acc: 0.6286\n",
      "Epoch 5/30\n",
      "8116/8116 [==============================] - 17s 2ms/step - loss: 0.6189 - acc: 0.6529 - val_loss: 0.6384 - val_acc: 0.6297\n",
      "Epoch 6/30\n",
      "8116/8116 [==============================] - 18s 2ms/step - loss: 0.6157 - acc: 0.6602 - val_loss: 0.6354 - val_acc: 0.6463\n",
      "Epoch 7/30\n",
      "8116/8116 [==============================] - 18s 2ms/step - loss: 0.6120 - acc: 0.6578 - val_loss: 0.6371 - val_acc: 0.6286\n",
      "Epoch 8/30\n",
      "8116/8116 [==============================] - 17s 2ms/step - loss: 0.6109 - acc: 0.6603 - val_loss: 0.6344 - val_acc: 0.6497\n",
      "Epoch 9/30\n",
      "8116/8116 [==============================] - 17s 2ms/step - loss: 0.6078 - acc: 0.6654 - val_loss: 0.6404 - val_acc: 0.6452\n",
      "Epoch 10/30\n",
      "8116/8116 [==============================] - 18s 2ms/step - loss: 0.6008 - acc: 0.6705 - val_loss: 0.6340 - val_acc: 0.6286\n",
      "Epoch 11/30\n",
      "8116/8116 [==============================] - 18s 2ms/step - loss: 0.5989 - acc: 0.6750 - val_loss: 0.6343 - val_acc: 0.6430\n",
      "Epoch 12/30\n",
      "8116/8116 [==============================] - 17s 2ms/step - loss: 0.5975 - acc: 0.6713 - val_loss: 0.6353 - val_acc: 0.6486\n",
      "Epoch 13/30\n",
      "8116/8116 [==============================] - 18s 2ms/step - loss: 0.5934 - acc: 0.6757 - val_loss: 0.6322 - val_acc: 0.6364\n",
      "Epoch 14/30\n",
      "8116/8116 [==============================] - 18s 2ms/step - loss: 0.5893 - acc: 0.6799 - val_loss: 0.6337 - val_acc: 0.6430\n",
      "Epoch 15/30\n",
      "8116/8116 [==============================] - 17s 2ms/step - loss: 0.5870 - acc: 0.6840 - val_loss: 0.6269 - val_acc: 0.6441\n",
      "Epoch 16/30\n",
      "8116/8116 [==============================] - 18s 2ms/step - loss: 0.5788 - acc: 0.6879 - val_loss: 0.6311 - val_acc: 0.6463\n",
      "Epoch 17/30\n",
      "8116/8116 [==============================] - 18s 2ms/step - loss: 0.5767 - acc: 0.6886 - val_loss: 0.6270 - val_acc: 0.6497\n",
      "Epoch 18/30\n",
      "8116/8116 [==============================] - 18s 2ms/step - loss: 0.5736 - acc: 0.6976 - val_loss: 0.6311 - val_acc: 0.6486\n",
      "Epoch 19/30\n",
      "8116/8116 [==============================] - 18s 2ms/step - loss: 0.5729 - acc: 0.6955 - val_loss: 0.6352 - val_acc: 0.6530\n",
      "Epoch 20/30\n",
      "8116/8116 [==============================] - 17s 2ms/step - loss: 0.5678 - acc: 0.6994 - val_loss: 0.6267 - val_acc: 0.6552\n",
      "Epoch 21/30\n",
      "8116/8116 [==============================] - 17s 2ms/step - loss: 0.5654 - acc: 0.7033 - val_loss: 0.6307 - val_acc: 0.6452\n",
      "Epoch 22/30\n",
      "8116/8116 [==============================] - 17s 2ms/step - loss: 0.5603 - acc: 0.7090 - val_loss: 0.6395 - val_acc: 0.6430\n",
      "Epoch 23/30\n",
      "8116/8116 [==============================] - 17s 2ms/step - loss: 0.5585 - acc: 0.7093 - val_loss: 0.6352 - val_acc: 0.6441\n",
      "Epoch 24/30\n",
      "8116/8116 [==============================] - 18s 2ms/step - loss: 0.5546 - acc: 0.7177 - val_loss: 0.6347 - val_acc: 0.6408\n",
      "Epoch 25/30\n",
      "8116/8116 [==============================] - 18s 2ms/step - loss: 0.5488 - acc: 0.7199 - val_loss: 0.6401 - val_acc: 0.6508\n",
      "Epoch 26/30\n",
      "8116/8116 [==============================] - 17s 2ms/step - loss: 0.5465 - acc: 0.7151 - val_loss: 0.6360 - val_acc: 0.6508\n",
      "Epoch 27/30\n",
      "8116/8116 [==============================] - 18s 2ms/step - loss: 0.5440 - acc: 0.7177 - val_loss: 0.6428 - val_acc: 0.6574\n",
      "Epoch 28/30\n",
      "8116/8116 [==============================] - 17s 2ms/step - loss: 0.5397 - acc: 0.7244 - val_loss: 0.6408 - val_acc: 0.6630\n",
      "Epoch 29/30\n",
      "8116/8116 [==============================] - 17s 2ms/step - loss: 0.5353 - acc: 0.7265 - val_loss: 0.6487 - val_acc: 0.6630\n",
      "Epoch 30/30\n",
      "8116/8116 [==============================] - 18s 2ms/step - loss: 0.5361 - acc: 0.7276 - val_loss: 0.6579 - val_acc: 0.6508\n"
     ]
    }
   ],
   "source": [
    "history = model.fit(x_train,\n",
    "                    y_train,\n",
    "                    epochs=30,\n",
    "                    batch_size=32,\n",
    "                    validation_split=0.1,\n",
    "                    callbacks=[EarlyStopping(patience=10, monitor='val_loss')])"
   ]
  },
  {
   "cell_type": "code",
   "execution_count": 15,
   "metadata": {},
   "outputs": [
    {
     "data": {
      "image/png": "[encoded data removed]",
      "text/plain": [
       "<matplotlib.figure.Figure at 0x7f3b3c17ec18>"
      ]
     },
     "metadata": {},
     "output_type": "display_data"
    }
   ],
   "source": [
    "import matplotlib.pyplot as plt\n",
    "\n",
    "history_dict = history.history\n",
    "loss_values = history_dict['loss']\n",
    "val_loss_values = history_dict['val_loss']\n",
    "\n",
    "epochs = range(1, len(loss_values) + 1)\n",
    "\n",
    "plt.plot(epochs, loss_values, 'bo', label='Training loss')\n",
    "plt.plot(epochs, val_loss_values, 'b', label='Validation loss')\n",
    "plt.title('Training and validation loss')\n",
    "plt.xlabel('Epochs')\n",
    "plt.ylabel('Loss')\n",
    "plt.legend()\n",
    "plt.show()"
   ]
  },
  {
   "cell_type": "code",
   "execution_count": 16,
   "metadata": {},
   "outputs": [
    {
     "data": {
      "image/png": "[encoded data removed]",
      "text/plain": [
       "<matplotlib.figure.Figure at 0x7f3b3c17e940>"
      ]
     },
     "metadata": {},
     "output_type": "display_data"
    }
   ],
   "source": [
    "plt.clf()\n",
    "\n",
    "acc = history_dict['acc']\n",
    "val_acc = history_dict['val_acc']\n",
    "\n",
    "plt.plot(epochs, acc, 'bo', label='Training acc')\n",
    "plt.plot(epochs, val_acc, 'b', label='Validation acc')\n",
    "plt.xlabel('Epochs')\n",
    "plt.ylabel('Accuracy')\n",
    "plt.legend()\n",
    "plt.show()"
   ]
  },
  {
   "cell_type": "code",
   "execution_count": 17,
   "metadata": {},
   "outputs": [
    {
     "name": "stdout",
     "output_type": "stream",
     "text": [
      "1002/1002 [==============================] - 1s 577us/step\n"
     ]
    },
    {
     "data": {
      "text/plain": [
       "[0.67218377644906258, 0.63972055912017822]"
      ]
     },
     "execution_count": 17,
     "metadata": {},
     "output_type": "execute_result"
    }
   ],
   "source": [
    "model.evaluate(x_test, y_test)"
   ]
  }
 ],
 "metadata": {
  "hide_input": false,
  "kernelspec": {
   "display_name": "Python 3",
   "language": "python",
   "name": "python3"
  },
  "language_info": {
   "codemirror_mode": {
    "name": "ipython",
    "version": 3
   },
   "file_extension": ".py",
   "mimetype": "text/x-python",
   "name": "python",
   "nbconvert_exporter": "python",
   "pygments_lexer": "ipython3",
   "version": "3.6.3"
  }
 },
 "nbformat": 4,
 "nbformat_minor": 2
}
