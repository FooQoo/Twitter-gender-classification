{
 "cells": [
  {
   "cell_type": "code",
   "execution_count": 1,
   "metadata": {
    "collapsed": true
   },
   "outputs": [],
   "source": [
    "import pandas as pd\n",
    "\n",
    "df_raw = pd.read_csv('gender-classification.csv', encoding='latin1')"
   ]
  },
  {
   "cell_type": "code",
   "execution_count": 2,
   "metadata": {},
   "outputs": [
    {
     "name": "stdout",
     "output_type": "stream",
     "text": [
      "生データ\n",
      "female     6700\n",
      "male       6194\n",
      "brand      5942\n",
      "unknown    1117\n",
      "Name: gender, dtype: int64\n",
      "修正後のデータ\n",
      "1    6700\n",
      "0    6194\n",
      "Name: gender, dtype: int64\n"
     ]
    }
   ],
   "source": [
    "# 目的変数をいじる\n",
    "\n",
    "## 目的変数を確認\n",
    "obj_col = 'gender'\n",
    "print('生データ\\n{}'.format(df_raw[obj_col].value_counts()))\n",
    "\n",
    "## male と femaleを抽出\n",
    "df = df_raw.loc[ (df_raw[obj_col]=='male') | (df_raw[obj_col]=='female')]\n",
    "\n",
    "## indexを振り直さないとlocメソッドでerrorが出る\n",
    "df = df.reset_index(drop=True)\n",
    "\n",
    "##ラベルを整数に変換\n",
    "df.loc[ df[obj_col]=='male' , obj_col] = 0\n",
    "df.loc[ df[obj_col]=='female' , obj_col] = 1\n",
    "\n",
    "## 目的変数の型変換\n",
    "df.loc[:, obj_col ] = df.loc[:, obj_col ].astype(int)\n",
    "\n",
    "print('修正後のデータ\\n{}'.format(df[obj_col].value_counts()))"
   ]
  },
  {
   "cell_type": "code",
   "execution_count": 3,
   "metadata": {},
   "outputs": [
    {
     "name": "stdout",
     "output_type": "stream",
     "text": [
      "修正後のデータ2\n",
      "1    4616\n",
      "0    4150\n",
      "Name: gender, dtype: int64\n"
     ]
    }
   ],
   "source": [
    "# 説明変数をいじる\n",
    "## description : 頻度表\n",
    "## text : 分散表現 (word2vec or fasttext) + 品詞の並び方\n",
    "## name : 文字単位\n",
    "## link_color : RGBで各次元を形成\n",
    "## sidebar_color : RGBで各次元を形成\n",
    "## fav_number : 不明\n",
    "## retweet_count : 不明\n",
    "## profileimage : 学習済みモデルから分類する? コスト高そう そもそも人かどうか判断できる時点で予測するまでもない\n",
    "\n",
    "## 性別判定の信頼度が1.0を対象に学習する\n",
    "df = df.loc[ df['gender:confidence'] >=1.0 ]\n",
    "df = df.reset_index(drop=True)\n",
    "df = df.dropna(subset=['description'])\n",
    "df = df.reset_index(drop=True)\n",
    "\n",
    "print('修正後のデータ2\\n{}'.format(df[obj_col].value_counts()))"
   ]
  },
  {
   "cell_type": "code",
   "execution_count": 4,
   "metadata": {
    "collapsed": true
   },
   "outputs": [],
   "source": [
    "import re\n",
    "\n",
    "def remove_urls(text):\n",
    "    \n",
    "    urls = [g[0] for g in re.findall(r'((https?|ftp)(:\\/\\/[-_\\.!~*\\'()a-zA-Z0-9;\\/?:\\@&=\\+\\$,%#]+))', text)]\n",
    "    \n",
    "    for url in sorted(urls,key=lambda x:-len(x)):\n",
    "    \n",
    "        text = text.replace(url,'')\n",
    "        \n",
    "    return text\n",
    "\n",
    "def remove_mentions(text):\n",
    "    \n",
    "    mentions = [g[0] for g in re.findall(r'@\\w+', text)]\n",
    "    \n",
    "    for mention in sorted(mentions,key=lambda x:-len(x)):\n",
    "    \n",
    "        text = text.replace(mention,'')\n",
    "        \n",
    "    return text\n",
    "\n",
    "def remove_rt(text):\n",
    "    \n",
    "    rts = [g[0] for g in re.findall(r'\\s?RT\\s', text)]\n",
    "    \n",
    "    for rt in sorted(rts,key=lambda x:-len(x)):\n",
    "    \n",
    "        text = text.replace(rt,'')\n",
    "        \n",
    "    return text"
   ]
  },
  {
   "cell_type": "code",
   "execution_count": 5,
   "metadata": {
    "collapsed": true
   },
   "outputs": [],
   "source": [
    "df.description = df.description.map(remove_urls)\n",
    "df.description = df.description.map(remove_mentions)\n",
    "df.description = df.description.map(remove_rt)"
   ]
  },
  {
   "cell_type": "code",
   "execution_count": 6,
   "metadata": {
    "collapsed": true
   },
   "outputs": [],
   "source": [
    "x = df.description\n",
    "y = df[obj_col].values"
   ]
  },
  {
   "cell_type": "code",
   "execution_count": 7,
   "metadata": {
    "collapsed": true
   },
   "outputs": [],
   "source": [
    "# train test split\n",
    "from sklearn.model_selection import train_test_split\n",
    "\n",
    "df_x_train, df_x_test, y_train, y_test = train_test_split(x, y, test_size = 0.1, random_state = 0)"
   ]
  },
  {
   "cell_type": "code",
   "execution_count": 8,
   "metadata": {
    "collapsed": true
   },
   "outputs": [],
   "source": [
    "# 頻度ベクトルの獲得\n",
    "from sklearn.feature_extraction.text import CountVectorizer\n",
    "from nltk.corpus import stopwords\n",
    "import numpy as np\n",
    "\n",
    "mystopwords = stopwords.words('english') + [\"i'm\",\"rt\"]\n",
    "\n",
    "cntvec = CountVectorizer(stop_words=mystopwords,token_pattern=\"(?u)(?=[a-zA-Z])\\\\b[\\w']{2,}\\\\b\")\n",
    "\n",
    "X_train = cntvec.fit_transform(df_x_train.values.tolist()).toarray().astype(np.float64)\n",
    "X_test  = cntvec.transform(df_x_test.values.tolist()).toarray().astype(np.float64)"
   ]
  },
  {
   "cell_type": "code",
   "execution_count": 9,
   "metadata": {},
   "outputs": [
    {
     "data": {
      "text/plain": [
       "MultinomialNB(alpha=1.0, class_prior=None, fit_prior=True)"
      ]
     },
     "execution_count": 9,
     "metadata": {},
     "output_type": "execute_result"
    }
   ],
   "source": [
    "from sklearn.naive_bayes import GaussianNB,MultinomialNB\n",
    "from sklearn.feature_extraction.text import TfidfTransformer\n",
    "from sklearn.pipeline import Pipeline\n",
    "from sklearn.base import TransformerMixin\n",
    "\n",
    "clf = MultinomialNB()\n",
    "clf.fit(X_train, y_train)"
   ]
  },
  {
   "cell_type": "code",
   "execution_count": 10,
   "metadata": {},
   "outputs": [
    {
     "name": "stdout",
     "output_type": "stream",
     "text": [
      "平均予測精度 : 0.68\n",
      "\n",
      "             precision    recall  f1-score   support\n",
      "\n",
      "       male       0.72      0.60      0.65       442\n",
      "     female       0.65      0.76      0.70       435\n",
      "\n",
      "avg / total       0.68      0.68      0.68       877\n",
      "\n"
     ]
    }
   ],
   "source": [
    "from sklearn.metrics import classification_report\n",
    "\n",
    "y_pred = clf.predict(X_test)\n",
    "\n",
    "print('平均予測精度 : {:.2f}\\n'.format(clf.score(X_test, y_test)))\n",
    "print(classification_report(y_test, y_pred, target_names=['male','female']))"
   ]
  }
 ],
 "metadata": {
  "hide_input": false,
  "kernelspec": {
   "display_name": "Python 3",
   "language": "python",
   "name": "python3"
  },
  "language_info": {
   "codemirror_mode": {
    "name": "ipython",
    "version": 3
   },
   "file_extension": ".py",
   "mimetype": "text/x-python",
   "name": "python",
   "nbconvert_exporter": "python",
   "pygments_lexer": "ipython3",
   "version": "3.6.3"
  }
 },
 "nbformat": 4,
 "nbformat_minor": 2
}
