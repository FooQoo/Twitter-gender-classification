{
 "cells": [
  {
   "cell_type": "code",
   "execution_count": 1,
   "metadata": {},
   "outputs": [],
   "source": [
    "import pandas as pd\n",
    "\n",
    "df_raw = pd.read_csv('gender-classification.csv', encoding='latin1')"
   ]
  },
  {
   "cell_type": "code",
   "execution_count": 2,
   "metadata": {},
   "outputs": [
    {
     "name": "stdout",
     "output_type": "stream",
     "text": [
      "生データ\n",
      "female     6700\n",
      "male       6194\n",
      "brand      5942\n",
      "unknown    1117\n",
      "Name: gender, dtype: int64\n",
      "修正後のデータ\n",
      "1    6700\n",
      "0    6194\n",
      "Name: gender, dtype: int64\n"
     ]
    }
   ],
   "source": [
    "# 目的変数をいじる\n",
    "\n",
    "## 目的変数を確認\n",
    "obj_col = 'gender'\n",
    "print('生データ\\n{}'.format(df_raw[obj_col].value_counts()))\n",
    "\n",
    "## male と femaleを抽出\n",
    "df = df_raw.loc[ (df_raw[obj_col]=='male') | (df_raw[obj_col]=='female')]\n",
    "\n",
    "## indexを振り直さないとlocメソッドでerrorが出る\n",
    "df = df.reset_index(drop=True)\n",
    "\n",
    "##ラベルを整数に変換\n",
    "df.loc[ df[obj_col]=='male' , obj_col] = 0\n",
    "df.loc[ df[obj_col]=='female' , obj_col] = 1\n",
    "\n",
    "## 目的変数の型変換\n",
    "df.loc[:, obj_col ] = df.loc[:, obj_col ].astype(int)\n",
    "\n",
    "print('修正後のデータ\\n{}'.format(df[obj_col].value_counts()))"
   ]
  },
  {
   "cell_type": "code",
   "execution_count": 3,
   "metadata": {
    "collapsed": true
   },
   "outputs": [],
   "source": [
    "# 説明変数をいじる\n",
    "## description : 頻度表\n",
    "## text : 分散表現 (word2vec or fasttext) + 品詞の並び方\n",
    "## name : 文字単位\n",
    "## link_color : RGBで各次元を形成\n",
    "## sidebar_color : RGBで各次元を形成\n",
    "## fav_number : 不明\n",
    "## retweet_count : 不明\n",
    "## profileimage : 学習済みモデルから分類する? コスト高そう そもそも人かどうか判断できる時点で予測するまでもない\n",
    "\n",
    "## 性別判定の信頼度が1.0を対象に学習する\n",
    "df = df.loc[ df['gender:confidence'] >=1.0 ]\n",
    "df = df.reset_index(drop=True)"
   ]
  },
  {
   "cell_type": "code",
   "execution_count": 4,
   "metadata": {
    "collapsed": true
   },
   "outputs": [],
   "source": [
    "def convert_hex_to_rgb_vector(hex_color, column='', normalize=1):\n",
    "    \n",
    "    if len(hex_color) == 6:\n",
    "        r = int(hex_color[0:2], 16) / normalize\n",
    "        g = int(hex_color[2:4], 16) / normalize\n",
    "        b = int(hex_color[4:6], 16) / normalize\n",
    "    else:\n",
    "        r,g,b = 0, 0, 0\n",
    "        \n",
    "    if column != '':\n",
    "        return pd.Series({column+'_r':r, column+'_g':g, column+'_b':b})\n",
    "    else:\n",
    "        return pd.Series({'r':r, 'g':g, 'b':b})"
   ]
  },
  {
   "cell_type": "code",
   "execution_count": 5,
   "metadata": {
    "collapsed": true
   },
   "outputs": [],
   "source": [
    "column = 'link_color'\n",
    "df = pd.concat( [df, df[column].apply(convert_hex_to_rgb_vector, column=column, normalize=255)], axis=1 )\n",
    "column = 'sidebar_color'\n",
    "df = pd.concat( [df, df[column].apply(convert_hex_to_rgb_vector, column=column, normalize=255)], axis=1 )"
   ]
  },
  {
   "cell_type": "code",
   "execution_count": 6,
   "metadata": {
    "collapsed": true
   },
   "outputs": [],
   "source": [
    "#説明変数を以下のカラムとする\n",
    "exp_col = ['link_color_r', \n",
    "                  'link_color_g', \n",
    "                  'link_color_b', \n",
    "                  'sidebar_color_r', \n",
    "                  'sidebar_color_g', \n",
    "                  'sidebar_color_b']"
   ]
  },
  {
   "cell_type": "code",
   "execution_count": 7,
   "metadata": {
    "collapsed": true
   },
   "outputs": [],
   "source": [
    "x = df[exp_col].values\n",
    "y = df[obj_col].values"
   ]
  },
  {
   "cell_type": "code",
   "execution_count": 8,
   "metadata": {
    "collapsed": true
   },
   "outputs": [],
   "source": [
    "# train test split\n",
    "from sklearn.model_selection import train_test_split\n",
    "\n",
    "X_train, X_test, y_train, y_test = train_test_split(x, y, test_size = 0.1, random_state = 0)"
   ]
  },
  {
   "cell_type": "code",
   "execution_count": 9,
   "metadata": {
    "collapsed": true
   },
   "outputs": [],
   "source": [
    "# ロジスティック回帰モデル\n",
    "from sklearn.linear_model import LogisticRegression"
   ]
  },
  {
   "cell_type": "code",
   "execution_count": 10,
   "metadata": {},
   "outputs": [
    {
     "name": "stdout",
     "output_type": "stream",
     "text": [
      "Best cross-validation accuracy: 0.57\n",
      "Train set score: 0.57\n",
      "Best parameters : {'LR__C': 0.01, 'LR__class_weight': 'balanced', 'LR__penalty': 'l1'}\n"
     ]
    }
   ],
   "source": [
    "# 5-fold cross validation\n",
    "from sklearn.pipeline import Pipeline\n",
    "from sklearn.preprocessing import StandardScaler\n",
    "from sklearn.model_selection import GridSearchCV\n",
    "from sklearn.model_selection import GroupKFold\n",
    "\n",
    "n = X_train.shape[1]\n",
    "\n",
    "#標準化と学習のパイプライン\n",
    "pipe = Pipeline([('scaler',StandardScaler()),(\"LR\", LogisticRegression(random_state=0))])\n",
    "pipe.fit(X_train,y_train)\n",
    "\n",
    "#パラメータは10^nオーダーで変化させる\n",
    "params = {'LR__C':[0.0001, 0.001, 0.01, 0.1],'LR__penalty':['l1', 'l2'],'LR__class_weight':[None,'balanced']}\n",
    "\n",
    "#グリッドサーチ\n",
    "grid = GridSearchCV(pipe, param_grid = params, cv = 5, scoring='accuracy',n_jobs=10)\n",
    "grid.fit(X_train,y_train)\n",
    "\n",
    "print('Best cross-validation accuracy: {:.2f}'.format(grid.best_score_))\n",
    "print('Train set score: {:.2f}'.format(grid.score(X_train,y_train)))\n",
    "print('Best parameters : {}'.format(grid.best_params_))"
   ]
  },
  {
   "cell_type": "code",
   "execution_count": 11,
   "metadata": {
    "collapsed": true
   },
   "outputs": [],
   "source": [
    "#最適化したパラメータで学習する\n",
    "from sklearn.linear_model import LogisticRegression\n",
    "\n",
    "clf = LogisticRegression(random_state=0, penalty='l1', C=0.01, class_weight='balanced')\n",
    "\n",
    "clf.fit(X_train, y_train)\n",
    "y_pred = clf.predict(X_test)"
   ]
  },
  {
   "cell_type": "code",
   "execution_count": 12,
   "metadata": {},
   "outputs": [
    {
     "name": "stdout",
     "output_type": "stream",
     "text": [
      "平均予測精度 : 0.59\n",
      "\n",
      "             precision    recall  f1-score   support\n",
      "\n",
      "       male       0.54      0.72      0.62       461\n",
      "     female       0.67      0.49      0.56       541\n",
      "\n",
      "avg / total       0.61      0.59      0.59      1002\n",
      "\n"
     ]
    }
   ],
   "source": [
    "from sklearn.metrics import classification_report\n",
    "\n",
    "print('平均予測精度 : {:.2f}\\n'.format(clf.score(X_test, y_test)))\n",
    "print(classification_report(y_test, y_pred, target_names=['male','female']))"
   ]
  }
 ],
 "metadata": {
  "hide_input": false,
  "kernelspec": {
   "display_name": "Python 3",
   "language": "python",
   "name": "python3"
  },
  "language_info": {
   "codemirror_mode": {
    "name": "ipython",
    "version": 3
   },
   "file_extension": ".py",
   "mimetype": "text/x-python",
   "name": "python",
   "nbconvert_exporter": "python",
   "pygments_lexer": "ipython3",
   "version": "3.6.3"
  }
 },
 "nbformat": 4,
 "nbformat_minor": 2
}
